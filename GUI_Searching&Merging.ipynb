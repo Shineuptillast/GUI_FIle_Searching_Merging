{
 "cells": [
  {
   "cell_type": "code",
   "execution_count": 1,
   "id": "fd49567f",
   "metadata": {},
   "outputs": [],
   "source": [
    "# Program to search the files in the user desktop and merge all those files which the user tells to."
   ]
  },
  {
   "cell_type": "code",
   "execution_count": 430,
   "id": "ce9fdb10",
   "metadata": {},
   "outputs": [],
   "source": [
    "from tkinter import*\n",
    "import tkinter.font as tkFont\n",
    "from tkinter import ttk\n",
    "from tkinter import filedialog\n",
    "import os\n",
    "import shutil\n",
    "from tkinter import messagebox"
   ]
  },
  {
   "cell_type": "code",
   "execution_count": 431,
   "id": "0528cfb2",
   "metadata": {},
   "outputs": [],
   "source": [
    "lf_separator=[]\n",
    "def name_extractor(text):\n",
    "    index_= text.index(\".\")\n",
    "    s=text[0:index_]\n",
    "    return s\n",
    "\n",
    "def directories():\n",
    "    l=[i for i in \"ABCDEFGHIJKLMNOPQRSTUVWXYZ\" if os.path.exists(\"{}:\".format(i))]\n",
    "    return l\n",
    "def click():\n",
    "    po=o.get()\n",
    "    for i,k in lf_names.items():\n",
    "        if po in k:\n",
    "            f_op=open(\"{}\".format(i),\"rb\")\n",
    "            fopen.write(f_op.read())\n",
    "    f_op.close()\n",
    "    fopen.close()\n",
    "            "
   ]
  },
  {
   "cell_type": "code",
   "execution_count": 432,
   "id": "53e7e9fb",
   "metadata": {},
   "outputs": [],
   "source": [
    "path=\"C:\\\\Users\\\\Naman Jain\"\n",
    "fopen =open('Newfile',\"wb\")\n",
    "def open_files():\n",
    "    for k,v in lf_names.items():\n",
    "        f_op=open(\"{}\".format(k),\"rb\")\n",
    "        fopen.write(f_op.read())\n",
    "    f_op.close()\n",
    "    fopen.close()"
   ]
  },
  {
   "cell_type": "code",
   "execution_count": 433,
   "id": "44adf462",
   "metadata": {},
   "outputs": [],
   "source": [
    "# Function invoked after the submit button\n",
    "lf_names={}\n",
    "def clickme():\n",
    "    text1=p.get()\n",
    "    for i in directories():\n",
    "        print(i)\n",
    "        for roots,dirs,files in os.walk(\"{}:\".format(i)):\n",
    "            for file in files:\n",
    "                if text1 in file and \".\" in file:\n",
    "                    f_name=name_extractor(file)\n",
    "                    if f_name==text1:\n",
    "                         lf_names[roots + \"/\" +file] = file \n",
    "    for keys,values in lf_names.items():\n",
    "        a.label(text=keys,px=20,py=3,fill=X,anchor=\"w\",size_=8,weight_=\"bold\")\n",
    "    a.seperator_()\n",
    "    lp=a.label(text=\"Merge files\",px=20,py=10,fill=X,anchor=\"w\",size_=25,weight_=\"bold\",bg_=\"brown\",fg_=\"white\")\n",
    "    global o\n",
    "    o=a.entry(bx=4,size=12,px=10,py=10,fill_=X)\n",
    "    a.button(text_=\"Submit\",func_=click,px=10,py=10,bx=4)\n",
    "    "
   ]
  },
  {
   "cell_type": "code",
   "execution_count": 434,
   "id": "e527760c",
   "metadata": {},
   "outputs": [
    {
     "data": {
      "text/plain": [
       "'def bind_(p):\\n    p.bind(\"<FocusIn>\",temp_text)\\n#def temp_text(e):\\n    p.delete(0,\"end\") '"
      ]
     },
     "execution_count": 434,
     "metadata": {},
     "output_type": "execute_result"
    }
   ],
   "source": [
    "# Temporary text in the Entry input\n",
    "\"\"\"def bind_(p):\n",
    "    p.bind(\"<FocusIn>\",temp_text)\n",
    "#def temp_text(e):\n",
    "    p.delete(0,\"end\") \"\"\""
   ]
  },
  {
   "cell_type": "code",
   "execution_count": 435,
   "id": "8f539256",
   "metadata": {},
   "outputs": [],
   "source": [
    "class Tk_Proj:\n",
    "    orient=\"horizontal\"\n",
    "    def __init__(self, geometry_,title_):\n",
    "        self.root=Tk()\n",
    "        self.root.title(title_)\n",
    "        self.root.geometry(geometry_)   \n",
    "    def font_(self,size_=None,weight_='normal'):\n",
    "        return tkFont.Font(size=size_,weight=weight_)\n",
    "    \n",
    "    def headline(self,text):\n",
    "        self.label(text=text,px=10,py=10,size_=25,fill=BOTH,bg_=\"brown\",fg_=\"white\",weight_=\"bold\")\n",
    "        \n",
    "    def label(self,text,bg_=\"white\",fg_=\"black\",px=0,py=0,fill=None,anchor=\"c\",size_=2,weight_=\"normal\"):\n",
    "        Label(self.root,text=text,bg=bg_,fg=fg_,font= self.font_(size_=size_,weight_=weight_)).pack(fill=fill,padx=px,pady=py)\n",
    "    \n",
    "    def seperator_(self):\n",
    "        ttk.Separator(self.root,orient=\"horizontal\").pack(fill=X)\n",
    "        \n",
    "    def entry(self,bx=2,size=10,px=0,py=0,fill_=None,text=None):\n",
    "        e=Entry(self.root,borderwidth=bx,font=self.font_(size_=size))\n",
    "        e.pack(fill=fill_,padx=px,pady=py)\n",
    "        return e\n",
    "    def insert_(self,e,text):\n",
    "        e.insert(0,text)\n",
    "    def button(self,text_,func_,width_=10,px=0,py=0,bx=2):\n",
    "        Button(self.root,text=text_,width=width_,borderwidth=bx,command=func_).pack(padx=px,pady=py)\n",
    "    def mainloop_(self):\n",
    "        self.root.mainloop() \n",
    "   "
   ]
  },
  {
   "cell_type": "code",
   "execution_count": 436,
   "id": "ddfa5ee9",
   "metadata": {},
   "outputs": [],
   "source": [
    "a=Tk_Proj(\"500x800\",\"File_Searching\") # Created an object for Graphical interface "
   ]
  },
  {
   "cell_type": "code",
   "execution_count": 437,
   "id": "638e9fbf",
   "metadata": {},
   "outputs": [
    {
     "name": "stdout",
     "output_type": "stream",
     "text": [
      "C\n",
      "D\n"
     ]
    }
   ],
   "source": [
    "global p\n",
    "global o\n",
    "# creating a headline of the project\n",
    "a.headline(\"File Searching\")\n",
    "\n",
    "# Adding a separator line\n",
    "a.seperator_()\n",
    "\n",
    "# Adding a entry for the user input\n",
    "p=a.entry(bx=4,size=12,px=10,py=10,fill_=X)\n",
    "\n",
    "#a.insert_(p,\"Enter the File name to be Searched\")\n",
    "#bind_(p)\n",
    "\n",
    "# Button to Execute the search function\n",
    "a.button(text_=\"Submit\",func_=clickme,px=10,py=10,bx=4)\n",
    "\n",
    "\n",
    "# Entry for the Merging files\n",
    "\n",
    "    \n",
    "a.mainloop_() \n",
    "\n",
    "##Creating a new file\n"
   ]
  },
  {
   "cell_type": "markdown",
   "id": "f11a1881",
   "metadata": {},
   "source": [
    " for key,value in lf_names.items():\n",
    "    print(value)"
   ]
  },
  {
   "cell_type": "code",
   "execution_count": 10,
   "id": "f083c383",
   "metadata": {},
   "outputs": [],
   "source": [
    "l=[i for i in \"ABCDEFGHIJKLMNOPQRSTUVWXYZ\" if os.path.exists(\"{}:\".format(i))]"
   ]
  },
  {
   "cell_type": "code",
   "execution_count": 11,
   "id": "7e137073",
   "metadata": {},
   "outputs": [
    {
     "data": {
      "text/plain": [
       "['C', 'D']"
      ]
     },
     "execution_count": 11,
     "metadata": {},
     "output_type": "execute_result"
    }
   ],
   "source": [
    "l"
   ]
  },
  {
   "cell_type": "code",
   "execution_count": 362,
   "id": "6b4ffe08",
   "metadata": {},
   "outputs": [
    {
     "data": {
      "text/plain": [
       "'C:\\\\Users\\\\Naman Jain'"
      ]
     },
     "execution_count": 362,
     "metadata": {},
     "output_type": "execute_result"
    }
   ],
   "source": [
    "os.getcwd()"
   ]
  },
  {
   "cell_type": "code",
   "execution_count": 13,
   "id": "9741ed33",
   "metadata": {},
   "outputs": [],
   "source": [
    "os.chdir('C:\\\\Users\\\\Naman Jain')"
   ]
  },
  {
   "cell_type": "code",
   "execution_count": 386,
   "id": "23891c63",
   "metadata": {},
   "outputs": [
    {
     "data": {
      "text/plain": [
       "['1234.txt.lnk', '1234.txt', '1234.txt', '1234.txt', '1234.txt']"
      ]
     },
     "execution_count": 386,
     "metadata": {},
     "output_type": "execute_result"
    }
   ],
   "source": [
    "lf_separator"
   ]
  },
  {
   "cell_type": "code",
   "execution_count": 439,
   "id": "d7256fee",
   "metadata": {},
   "outputs": [
    {
     "name": "stdout",
     "output_type": "stream",
     "text": [
      "b\"L\\x00\\x00\\x00\\x01\\x14\\x02\\x00\\x00\\x00\\x00\\x00\\xc0\\x00\\x00\\x00\\x00\\x00\\x00F\\x93\\x00 \\x00 \\x00\\x00\\x00e\\x8e\\xd2 jD\\xd9\\x01e\\x8e\\xd2 jD\\xd9\\x01e\\x8e\\xd2 jD\\xd9\\x01\\x00\\x00\\x00\\x00\\x00\\x00\\x00\\x00\\x01\\x00\\x00\\x00\\x00\\x00\\x00\\x00\\x00\\x00\\x00\\x00\\x00\\x00\\x00\\x00\\x9d\\x02\\x14\\x00\\x1fP\\xe0O\\xd0 \\xea:i\\x10\\xa2\\xd8\\x08\\x00+00\\x9d\\x19\\x00/D:\\\\\\x00\\x00\\x00\\x00\\x00\\x00\\x00\\x00\\x00\\x00\\x00\\x00\\x00\\x00\\x00\\x00\\x00\\x00\\x00Z\\x001\\x00\\x00\\x00\\x00\\x00SV\\x14o\\x10\\x00big data\\x00\\x00B\\x00\\t\\x00\\x04\\x00\\xef\\xbe~UC UV\\x8en.\\x00\\x00\\x00M\\x0f\\x00\\x00\\x00\\x00$\\x00\\x00\\x00\\x00\\x00\\x00\\x00\\x00\\x00\\x00\\x00\\x00\\x00\\x00\\x00'\\xf8\\xa9\\x00b\\x00i\\x00g\\x00 \\x00d\\x00a\\x00t\\x00a\\x00\\x00\\x00\\x18\\x00V\\x001\\x00\\x00\\x00\\x00\\x00SV\\x1ao\\x10\\x00testing\\x00@\\x00\\t\\x00\\x04\\x00\\xef\\xbeSV\\x13oUV\\x8en.\\x00\\x00\\x00H\\x1b\\x00\\x00\\x00\\x00\\x01\\x00\\x00\\x00\\x00\\x00\\x00\\x00\\x00\\x00\\x00\\x00\\x00\\x00\\x00\\x00\\x12$+\\x01t\\x00e\\x00s\\x00t\\x00i\\x00n\\x00g\\x00\\x00\\x00\\x16\\x00V\\x001\\x00\\x00\\x00\\x00\\x00SV!o\\x10\\x00testing\\x00@\\x00\\t\\x00\\x04\\x00\\xef\\xbeSV\\x17oUV\\x8en.\\x00\\x00\\x00I\\x1b\\x00\\x00\\x00\\x00\\x01\\x00\\x00\\x00\\x00\\x00\\x00\\x00\\x00\\x00\\x00\\x00\\x00\\x00\\x00\\x00\\xa3\\xed\\x14\\x00t\\x00e\\x00s\\x00t\\x00i\\x00n\\x00g\\x00\\x00\\x00\\x16\\x00Z\\x001\\x00\\x00\\x00\\x00\\x00SV'o\\x10\\x00Testing1\\x00\\x00B\\x00\\t\\x00\\x04\\x00\\xef\\xbeSV oUV\\x8en.\\x00\\x00\\x00J\\x1b\\x00\\x00\\x00\\x00\\x01\\x00\\x00\\x00\\x00\\x00\\x00\\x00\\x00\\x00\\x00\\x00\\x00\\x00\\x00\\x00\\x07\\x82\\xe6\\x00T\\x00e\\x00s\\x00t\\x00i\\x00n\\x00g\\x001\\x00\\x00\\x00\\x18\\x00Z\\x001\\x00\\x00\\x00\\x00\\x00SV1o\\x10\\x00testing2\\x00\\x00B\\x00\\t\\x00\\x04\\x00\\xef\\xbeSV%oUV\\x8en.\\x00\\x00\\x00K\\x1b\\x00\\x00\\x00\\x00\\x01\\x00\\x00\\x00\\x00\\x00\\x00\\x00\\x00\\x00\\x00\\x00\\x00\\x00\\x00\\x00\\xf4\\xe4\\x1c\\x00t\\x00e\\x00s\\x00t\\x00i\\x00n\\x00g\\x002\\x00\\x00\\x00\\x18\\x00Z\\x001\\x00\\x00\\x00\\x00\\x00SV9o\\x10\\x00TEsting3\\x00\\x00B\\x00\\t\\x00\\x04\\x00\\xef\\xbeSV/oUV\\x8en.\\x00\\x00\\x00L\\x1b\\x00\\x00\\x00\\x00\\x01\\x00\\x00\\x00\\x00\\x00\\x00\\x00\\x00\\x00\\x00\\x00\\x00\\x00\\x00\\x00Z:\\x82\\x00T\\x00E\\x00s\\x00t\\x00i\\x00n\\x00g\\x003\\x00\\x00\\x00\\x18\\x00Z\\x002\\x00\\x00\\x00\\x00\\x00SV4o \\x001234.txt\\x00\\x00B\\x00\\t\\x00\\x04\\x00\\xef\\xbeSV4oSV4o.\\x00\\x00\\x00M\\x1b\\x00\\x00\\x00\\x00\\x01\\x00\\x00\\x00\\x00\\x00\\x00\\x00\\x00\\x00\\x00\\x00\\x00\\x00\\x00\\x00\\x9b\\x93y\\x001\\x002\\x003\\x004\\x00.\\x00t\\x00x\\x00t\\x00\\x00\\x00\\x18\\x00\\x00\\x00r\\x00\\x00\\x00\\x1c\\x00\\x00\\x00\\x01\\x00\\x00\\x00\\x1c\\x00\\x00\\x001\\x00\\x00\\x00\\x00\\x00\\x00\\x00q\\x00\\x00\\x00\\x15\\x00\\x00\\x00\\x03\\x00\\x00\\x00s\\xc0)\\\\\\x10\\x00\\x00\\x00Data\\x00D:\\\\big data\\\\testing\\\\testing\\\\Testing1\\\\testing2\\\\TEsting3\\\\1234.txt\\x00\\x006\\x00D\\x00:\\x00\\\\\\x00b\\x00i\\x00g\\x00 \\x00d\\x00a\\x00t\\x00a\\x00\\\\\\x00t\\x00e\\x00s\\x00t\\x00i\\x00n\\x00g\\x00\\\\\\x00t\\x00e\\x00s\\x00t\\x00i\\x00n\\x00g\\x00\\\\\\x00T\\x00e\\x00s\\x00t\\x00i\\x00n\\x00g\\x001\\x00\\\\\\x00t\\x00e\\x00s\\x00t\\x00i\\x00n\\x00g\\x002\\x00\\\\\\x00T\\x00E\\x00s\\x00t\\x00i\\x00n\\x00g\\x003\\x00`\\x00\\x00\\x00\\x03\\x00\\x00\\xa0X\\x00\\x00\\x00\\x00\\x00\\x00\\x00shineuptillast\\x00\\x00\\xca]RTZ\\x85\\x11J\\xb7ol\\xad#y\\nKcm\\x97e[\\xb0\\xed\\x11\\xa5D\\xaaL\\xf4\\xe4\\x1aB\\xca]RTZ\\x85\\x11J\\xb7ol\\xad#y\\nKcm\\x97e[\\xb0\\xed\\x11\\xa5D\\xaaL\\xf4\\xe4\\x1aBE\\x00\\x00\\x00\\t\\x00\\x00\\xa09\\x00\\x00\\x001SPS\\xb1\\x16mD\\xad\\x8dpH\\xa7H@.\\xa4=x\\x8c\\x1d\\x00\\x00\\x00h\\x00\\x00\\x00\\x00H\\x00\\x00\\x00\\xf8\\x9c~8l\\xd6\\xf5J\\x95\\xa9\\r\\xe5\\x81T;@\\x00\\x00\\x00\\x00\\x00\\x00\\x00\\x00\\x00\\x00\\x00\\x00Hello how are you?Hello, Naman this side, Hope you are doing good!\"\n"
     ]
    }
   ],
   "source": [
    "fopen =open('Newfile',\"rb\")\n",
    "print(fopen.read())"
   ]
  },
  {
   "cell_type": "code",
   "execution_count": 405,
   "id": "69da6420",
   "metadata": {},
   "outputs": [
    {
     "data": {
      "text/plain": [
       "'C:\\\\Users\\\\Naman Jain'"
      ]
     },
     "execution_count": 405,
     "metadata": {},
     "output_type": "execute_result"
    }
   ],
   "source": [
    "os.getcwd()"
   ]
  },
  {
   "cell_type": "code",
   "execution_count": null,
   "id": "1f9fec49",
   "metadata": {},
   "outputs": [],
   "source": []
  }
 ],
 "metadata": {
  "kernelspec": {
   "display_name": "Python 3",
   "language": "python",
   "name": "python3"
  },
  "language_info": {
   "codemirror_mode": {
    "name": "ipython",
    "version": 3
   },
   "file_extension": ".py",
   "mimetype": "text/x-python",
   "name": "python",
   "nbconvert_exporter": "python",
   "pygments_lexer": "ipython3",
   "version": "3.8.8"
  }
 },
 "nbformat": 4,
 "nbformat_minor": 5
}
